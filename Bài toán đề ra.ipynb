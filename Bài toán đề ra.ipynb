{
 "cells": [
  {
   "cell_type": "markdown",
   "metadata": {},
   "source": [
    "# Bài Toán Đặt Ra :\n"
   ]
  },
  {
   "cell_type": "markdown",
   "metadata": {},
   "source": [
    "Xây dựng một hệ gợi ý cho người dùng những bộ phim phù hợp với mong muốn của bản thân. \n",
    "\n",
    "\n",
    "Hệ gợi ý sẽ được chạy trên nền tảng web. "
   ]
  },
  {
   "cell_type": "markdown",
   "metadata": {},
   "source": [
    "##  Kịch Bản Gợi Ý :\n"
   ]
  },
  {
   "cell_type": "markdown",
   "metadata": {},
   "source": [
    "### Người dùng chưa có tài khoản \n",
    "Người dùng đăng ký tài khoản và đăng nhập thành công. Sau đó người dùng và Hệ Thống sẽ giao tiếp với nhau theo các bước sau : \n",
    "\n",
    "1- Hệ thống đưa cho người dùng 5 điểm : và yêu cầu chấm cho các thể loại mà mình yêu thích \n",
    "\n",
    "    Ví dụ : Hành động 3 điểm ; Lịch Sử 2 điểm ; Lãng mạn : 0 ; Hài hước : 0 .....\n",
    "    => Điều đó sẽ giúp Hệ thống có thể xếp hạng được các Thể loại phim mà người dung yêu thích .\n",
    "\n",
    "2- Hệ thống sẽ đưa ra các danh sách phim với số lượng phim được sắp xếp \n",
    "\n",
    "    Thể loại yêu thích sẽ được hiển thị nhiều hơn ) \n",
    "    Người dùng lần lượt đánh giá các bộ phim trong quá khứ - \n",
    "    Ít nhất là 10 bộ Phim phải được đánh giá thì hệ thống sẽ hoạt động tốt . \n",
    "\n",
    "3- Hệ thống sẽ đưa ra gợi ý cho người dùng theo các List :\n",
    "\n",
    "    -Các bộ phim dành cho bạn : Đây là các bộ phim hệ thống tính toán người dùng yêu thích cao nhất .\n",
    "    - Các bộ phim được phát gần đây có thể bạn yêu thích ( mục Khám Phá)\n",
    "    - Các bộ phim bạn đã ghim - đánh dấu sẽ xem ..\n",
    "    \n",
    "Trong trường hợp người dùng chưa từng xem phim nào ... Hệ thống cung cấp một Thanh tím kiếm tốt , với nội dung gợi ý tìm kiếm là các nội dung mà những user trước đã tìm kiếm trước đó . \n",
    "\n",
    "Nếu user là một người  chưa từng xem một bộ phim nào , Hệ thống sẽ đề xuất cho user đó những bộ phim phổ biến nhất. \n",
    "\n",
    "Khi có một tương tác mới - Hệ thống sẽ tính toán lại và đưa ra kết quả cho người dùng ...\n",
    "\n",
    "### Người dùng đã có tài khoản :\n",
    "\n",
    " Với những phim người dùng đã xem họ có thể để lại review cho các bộ phim đó. \n",
    " \n",
    " Họ có thể sử dụng chức năng Community Tags để đánh cho bộ phim đó.\n",
    " \n",
    "         Ví dụ : Bộ phim Toy Story sẽ được gắn các tag như VUI NHỘN (10) , CẢM ĐỘNG (2) .... \n",
    "         CON SỐ Ở ĐÂY LÀ SỐ ĐÃ GẮN TAG TRƯỚC ĐÓ \n",
    "     \n",
    " Qua 2 hoạt động trên của User ta có thể sẽ hiểu User hơn và có thêm một bộ Profile của Movie từ cộng đồng tốt hơn ...\n",
    " dễ dàng gợi ý một cách chuẩn xác hơn \n",
    "\n",
    "\n",
    "### Kịch bản đặc biệt :\n",
    "\n",
    "Người dùng sẽ có thể nhập một đoạn TEXT hệ gợi ý sẽ kết hợp câu Text đó và quá khứ của User đó để gợi ý bộ phim phù hợp .\n",
    "\n",
    "        Ví dụ : Input 'Tôi đang buồn quá , mất động lực trong cuộc sống hãy tìm cho tôi một bộ phim nào tốt được không ?' YÊU CẦU HỆ GỢI Ý : Tìm các bộ phim phù hợp với tâm trạng hiện tại của người dùng. "
   ]
  },
  {
   "cell_type": "markdown",
   "metadata": {},
   "source": [
    "### Chức năng gợi ý bao gồm :"
   ]
  },
  {
   "cell_type": "markdown",
   "metadata": {},
   "source": [
    "1- Gợi ý cho người dùng những bộ phim người dùng có thể yêu thích từ các tương tác, input của user\n",
    "\n",
    "2- Gợi ý tìm kiếm cho người dùng từ những kết quả tìm kiếm trước đó  của người dùng khác."
   ]
  },
  {
   "cell_type": "code",
   "execution_count": null,
   "metadata": {},
   "outputs": [],
   "source": []
  }
 ],
 "metadata": {
  "kernelspec": {
   "display_name": "Python 3",
   "language": "python",
   "name": "python3"
  },
  "language_info": {
   "codemirror_mode": {
    "name": "ipython",
    "version": 3
   },
   "file_extension": ".py",
   "mimetype": "text/x-python",
   "name": "python",
   "nbconvert_exporter": "python",
   "pygments_lexer": "ipython3",
   "version": "3.8.5"
  }
 },
 "nbformat": 4,
 "nbformat_minor": 4
}
