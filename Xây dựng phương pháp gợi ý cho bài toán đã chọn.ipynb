{
 "cells": [
  {
   "cell_type": "markdown",
   "metadata": {},
   "source": [
    "## Xây dựng thanh tìm kiếm Phim hiệu quả \n"
   ]
  },
  {
   "cell_type": "markdown",
   "metadata": {},
   "source": [
    "1. Tên bộ phim sẽ được gợi ý ( Auto Complete - Tự động gợi ý ) theo kết quả mà User khác đã tìm kiếm đến trước đó.\n",
    "2. Tìm kiếm cổ điển sẽ bao gồm Search theo Thể Loại Phim , Tên chính xác bộ phim đó - sẽ được hiển thị bên dưới \n"
   ]
  },
  {
   "cell_type": "markdown",
   "metadata": {},
   "source": [
    "## Xây dựng thanh hệ gợi ý cho Phim phù hợp với người dùng \n"
   ]
  },
  {
   "cell_type": "markdown",
   "metadata": {},
   "source": [
    "### Trường hợp người dùng input text yêu cầu:\n",
    "\n",
    "Hệ thống sẽ sử trích xuất thông tin từ input của người dùng và các Community Tags của bộ phim , Profile của bộ phim để đánh giá độ thích hợp đưa ra cho người dùng . ( Content Based )\n",
    "\n",
    "Với những người dùng đã có lịch sử tương tác trước đó Kết quả này sẽ đem kết hợp với Gợi ý sử dụng Matric Factoriation(SVD) để đưa ra kết qủa tốt nhất. \n",
    "\n",
    "\n",
    "### Để giải quyết phần  Top picks for you :\n",
    "\n",
    "Ở đây sẽ sử dụng Matric Factoriation(SVD) để xác định dự đoán các đánh giá của các bộ phim mà User đó chưa xem. Sau đó đưa gợi ý cho người dùng."
   ]
  },
  {
   "cell_type": "code",
   "execution_count": null,
   "metadata": {},
   "outputs": [],
   "source": []
  }
 ],
 "metadata": {
  "kernelspec": {
   "display_name": "Python 3",
   "language": "python",
   "name": "python3"
  },
  "language_info": {
   "codemirror_mode": {
    "name": "ipython",
    "version": 3
   },
   "file_extension": ".py",
   "mimetype": "text/x-python",
   "name": "python",
   "nbconvert_exporter": "python",
   "pygments_lexer": "ipython3",
   "version": "3.8.5"
  }
 },
 "nbformat": 4,
 "nbformat_minor": 4
}
